{
  "nbformat": 4,
  "nbformat_minor": 0,
  "metadata": {
    "colab": {
      "name": "rnn_pytorch.ipynb",
      "version": "0.3.2",
      "provenance": []
    },
    "kernelspec": {
      "display_name": "Python 2",
      "language": "python",
      "name": "python2"
    }
  },
  "cells": [
    {
      "metadata": {
        "id": "G6r7ygU02ng7",
        "colab_type": "text"
      },
      "cell_type": "markdown",
      "source": [
        "<a href=\"https://colab.research.google.com/github/gcunhase/ML-Notebook/blob/master/rnn_pytorch.ipynb\" target=\"_parent\"><img src=\"https://colab.research.google.com/assets/colab-badge.svg\" alt=\"Open In Colab\"/></a>"
      ]
    },
    {
      "metadata": {
        "collapsed": true,
        "id": "jqZrGQOG2ng-",
        "colab_type": "text"
      },
      "cell_type": "markdown",
      "source": [
        "# Recurrent Neural Network"
      ]
    },
    {
      "metadata": {
        "id": "EB7M0gMP2ng_",
        "colab_type": "text"
      },
      "cell_type": "markdown",
      "source": [
        "## 1. Libraries\n",
        "*Installing and importing necessary packages*"
      ]
    },
    {
      "metadata": {
        "id": "Xdemin4U2nhA",
        "colab_type": "code",
        "colab": {},
        "outputId": "efe691bb-1868-4fd8-c229-f1e1e13b9035"
      },
      "cell_type": "code",
      "source": [
        "import sys\n",
        "import os\n",
        "# !{sys.executable} -m pip install http://download.pytorch.org/whl/cu80/torch-0.4.0-cp36-cp36m-linux_x86_64.whl\n",
        "!{sys.executable} -m pip install torch torchvision matplotlib\n",
        "\n",
        "import torch\n",
        "import torch.nn as nn\n",
        "import torchvision.datasets as datasets\n",
        "import torchvision.transforms as transforms\n",
        "\n",
        "%matplotlib inline\n",
        "import matplotlib\n",
        "import matplotlib.pyplot as plt"
      ],
      "execution_count": 0,
      "outputs": [
        {
          "output_type": "stream",
          "text": [
            "Requirement already satisfied: torch in /home/ceslea/anaconda3/lib/python3.6/site-packages (0.4.0)\r\n",
            "Requirement already satisfied: torchvision in /home/ceslea/anaconda3/lib/python3.6/site-packages (0.2.1)\r\n",
            "Requirement already satisfied: matplotlib in /home/ceslea/anaconda3/lib/python3.6/site-packages (2.1.0)\r\n",
            "Requirement already satisfied: six in /home/ceslea/anaconda3/lib/python3.6/site-packages (from torchvision) (1.11.0)\r\n",
            "Requirement already satisfied: pillow>=4.1.1 in /home/ceslea/anaconda3/lib/python3.6/site-packages (from torchvision) (4.2.1)\r\n",
            "Requirement already satisfied: numpy in /home/ceslea/anaconda3/lib/python3.6/site-packages (from torchvision) (1.13.3)\r\n",
            "Requirement already satisfied: python-dateutil>=2.0 in /home/ceslea/anaconda3/lib/python3.6/site-packages (from matplotlib) (2.6.1)\r\n",
            "Requirement already satisfied: pytz in /home/ceslea/anaconda3/lib/python3.6/site-packages (from matplotlib) (2017.2)\r\n",
            "Requirement already satisfied: cycler>=0.10 in /home/ceslea/anaconda3/lib/python3.6/site-packages (from matplotlib) (0.10.0)\r\n",
            "Requirement already satisfied: pyparsing!=2.0.4,!=2.1.2,!=2.1.6,>=2.0.1 in /home/ceslea/anaconda3/lib/python3.6/site-packages (from matplotlib) (2.2.0)\r\n",
            "Requirement already satisfied: olefile in /home/ceslea/anaconda3/lib/python3.6/site-packages (from pillow>=4.1.1->torchvision) (0.44)\r\n"
          ],
          "name": "stdout"
        }
      ]
    },
    {
      "metadata": {
        "id": "ateauqQT2nhF",
        "colab_type": "text"
      },
      "cell_type": "markdown",
      "source": [
        "## 2. Variables\n",
        "*Indicate the root directory where the data must be downloaded, the directory where the results should be saved and the type of RNN (conventional, LSTM, GRU) and its respective hyper-parameters*"
      ]
    },
    {
      "metadata": {
        "id": "Jt3gMpMY2nhG",
        "colab_type": "code",
        "colab": {}
      },
      "cell_type": "code",
      "source": [
        "params = {'root': './data/',\n",
        "          'results_dir': './results/',\n",
        "          'model_type': 'RNN',\n",
        "          'batch_size': 512,\n",
        "          'epochs': 2,\n",
        "          'save_step': 50,\n",
        "          'lr': 0.001,\n",
        "          'weight_decay': 1e-5,\n",
        "          'num_classes': 10,\n",
        "          'num_layers': 2,\n",
        "          'hidden_size': 128,\n",
        "          'input_size': 28,\n",
        "          'sequence_length': 28}\n",
        "\n",
        "device = torch.device('cuda') if torch.cuda.is_available() else torch.device('cpu')\n",
        "if not os.path.exists(params['results_dir']):\n",
        "    os.mkdir(params['results_dir'])"
      ],
      "execution_count": 0,
      "outputs": []
    },
    {
      "metadata": {
        "id": "BamOukfB2nhL",
        "colab_type": "text"
      },
      "cell_type": "markdown",
      "source": [
        "## 3. Dataset"
      ]
    },
    {
      "metadata": {
        "id": "jpbW8mtb2nhN",
        "colab_type": "code",
        "colab": {},
        "outputId": "aac6f78b-6597-475a-baa4-de460cf0f144"
      },
      "cell_type": "code",
      "source": [
        "mnist_train = datasets.MNIST(root=params['root'], train=True, download=True, transform=transforms.ToTensor())\n",
        "mnist_test = datasets.MNIST(root=params['root'], train=False, download=True, transform=transforms.ToTensor())\n",
        "print(\"MNIST Train {}, Test {}\".format(len(mnist_train), len(mnist_test)))\n",
        "\n",
        "mnist_train_dataloader = torch.utils.data.DataLoader(dataset=mnist_train, batch_size=params['batch_size'], shuffle=True)\n",
        "mnist_test_dataloader = torch.utils.data.DataLoader(dataset=mnist_test, batch_size=params['batch_size'], shuffle=True)"
      ],
      "execution_count": 0,
      "outputs": [
        {
          "output_type": "stream",
          "text": [
            "MNIST Train 60000, Test 10000\n"
          ],
          "name": "stdout"
        }
      ]
    },
    {
      "metadata": {
        "id": "dWCCngwF2nhS",
        "colab_type": "text"
      },
      "cell_type": "markdown",
      "source": [
        "## 4. The Model: RNN\n",
        "$h_t = \\sigma(W x_t + U h_{t-1})$\n",
        "\n",
        "Some important information is: \n",
        "* Input size: number of expected features in input $x$\n",
        "* Hidden size: number of features in hidden state $h$\n",
        "* After forward propagation, output has shape (batch_size, seq_length, hidden_size)"
      ]
    },
    {
      "metadata": {
        "id": "N2UAizM92nhT",
        "colab_type": "code",
        "colab": {}
      },
      "cell_type": "code",
      "source": [
        "class RNN(nn.Module):\n",
        "    def __init__(self):\n",
        "        super(RNN, self).__init__()\n",
        "        self.input_size = params['input_size']\n",
        "        self.hidden_size = params['hidden_size']\n",
        "        self.num_layers = params['num_layers']\n",
        "        self.model_type = params['model_type']\n",
        "        \n",
        "        if self.model_type == 'RNN':\n",
        "            self.rnn = nn.RNN(self.input_size, self.hidden_size, num_layers=self.num_layers, bias=True, nonlinearity='tanh')\n",
        "        elif self.model_type == 'GRU':\n",
        "            self.rnn = nn.GRU(self.input_size, self.hidden_size, num_layers=self.num_layers, bias=True)\n",
        "        else:  # 'LSTM'\n",
        "            self.rnn = nn.LSTM(self.input_size, self.hidden_size, num_layers=self.num_layers)\n",
        "        self.fc = nn.Linear(self.hidden_size, params['num_classes'])\n",
        "        \n",
        "    def forward(self, x):           \n",
        "        # Set initial hidden state $h0$ and cell state $c0$\n",
        "        h0 = torch.zeros(self.num_layers, self.input_size, self.hidden_size).to(device)\n",
        "        c0 = torch.zeros(self.num_layers, self.input_size, self.hidden_size).to(device)\n",
        "\n",
        "        # Forward propagate RNN\n",
        "        if self.model_type == 'LSTM':\n",
        "            out, hidden = self.rnn(x, (h0, c0)) \n",
        "        else:\n",
        "            out, hidden = self.rnn(x, h0)\n",
        "        \n",
        "        # Decode last hidden state\n",
        "        out = self.fc(out[:, -1, :])\n",
        "        # print(out.shape)\n",
        "        return out"
      ],
      "execution_count": 0,
      "outputs": []
    },
    {
      "metadata": {
        "id": "t7ZCKLry2nhV",
        "colab_type": "text"
      },
      "cell_type": "markdown",
      "source": [
        "## 5. Train"
      ]
    },
    {
      "metadata": {
        "id": "qaLuhdcu2nhW",
        "colab_type": "code",
        "colab": {}
      },
      "cell_type": "code",
      "source": [
        "# Instantiate model\n",
        "model = RNN()\n",
        "\n",
        "# Loss criterion and optimizer\n",
        "criterion = nn.CrossEntropyLoss()  # L1Loss, SmoothL1Loss, NLLLoss(), CrossEntropyLoss()\n",
        "optimizer = torch.optim.Adam(model.parameters(), lr=params['lr'], weight_decay=params['weight_decay'])\n",
        "\n",
        "# New results dir based on model's parameters\n",
        "res_dir = params['results_dir'] + '{}_{}layers_adam_lr{}_weight{}_trainSize_{}_testSize_{}/'.\\\n",
        "    format(params['model_type'], params['num_layers'], params['lr'], params['weight_decay'], len(mnist_train), len(mnist_test))\n",
        "\n",
        "if not os.path.exists(res_dir):\n",
        "    os.mkdir(res_dir)\n",
        "\n",
        "print(\"res_dir: {}\".format(res_dir))\n",
        "log_file = open(res_dir + 'log.txt', 'w')\n",
        "loss_arr = []\n",
        "first_time = True\n",
        "total_num_steps = len(mnist_train_dataloader)\n",
        "for e in range(1, params['epochs']+1):\n",
        "    for i, (img, label) in enumerate(mnist_train_dataloader):\n",
        "        img = torch.squeeze(img).to(device)\n",
        "        label = label.to(device)\n",
        "        \n",
        "        # Forward\n",
        "        out = model(img)\n",
        "        loss = criterion(out, label)\n",
        "        \n",
        "        # Backward\n",
        "        optimizer.zero_grad()\n",
        "        loss.backward()\n",
        "        optimizer.step()\n",
        "        \n",
        "        loss_arr.append(loss.item())\n",
        "        \n",
        "        if i % params['save_step'] == 0:\n",
        "            # Print update\n",
        "            perc = 100 * ((e-1)*total_num_steps + (i+1))/(params['epochs'] * total_num_steps)\n",
        "            str_res = \"Completed {:.4f}%: Epoch/step [{}/{} - {}/{}], loss {:.4f}\\n\".format(perc, e, params['epochs'], i+1, total_num_steps, loss.item())\n",
        "            print(str_res)  # print(\"\\r\" + str_res, end=\"\")\n",
        "            # Save log\n",
        "            log_file.write(str_res)\n",
        "            # Save training loss\n",
        "            plt.plot(loss_arr)\n",
        "            plt.savefig(res_dir + 'loss.png')\n",
        "            # Save model checkpoint\n",
        "            torch.save(model.state_dict(), res_dir + 'model.ckpt')\n",
        "plt.show()"
      ],
      "execution_count": 0,
      "outputs": []
    },
    {
      "metadata": {
        "id": "bUXii0BC2nhZ",
        "colab_type": "text"
      },
      "cell_type": "markdown",
      "source": [
        "## 6. Test"
      ]
    },
    {
      "metadata": {
        "id": "q3Qlsqzo2nha",
        "colab_type": "code",
        "colab": {},
        "outputId": "ccb41bc2-bc65-4039-f52b-1579b0e47928"
      },
      "cell_type": "code",
      "source": [
        "# Testing doesn't require the use of gradients since weights aren't being updated\n",
        "with torch.no_grad():\n",
        "    correct = 0\n",
        "    total = 0\n",
        "    \n",
        "    for img, label in mnist_test_dataloader:\n",
        "        img = torch.squeeze(img).to(device)\n",
        "        label = label.to(device)\n",
        "        \n",
        "        # Forward\n",
        "        out = model(img)\n",
        "        \n",
        "        # Test\n",
        "        _, predicted = torch.max(out.data, 1)\n",
        "        total += label.size(0)\n",
        "        correct += (predicted == label).sum().item()\n",
        "\n",
        "    print('Test Accuracy: {:.4f} %'.format(100 * correct / total)) "
      ],
      "execution_count": 0,
      "outputs": [
        {
          "output_type": "stream",
          "text": [
            "Test Accuracy: 12.1300 %\n"
          ],
          "name": "stdout"
        }
      ]
    }
  ]
}