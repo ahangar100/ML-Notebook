{
 "cells": [
  {
   "cell_type": "markdown",
   "metadata": {
    "collapsed": true
   },
   "source": [
    "# Recurrent Neural Network"
   ]
  },
  {
   "cell_type": "markdown",
   "metadata": {},
   "source": [
    "## 1. Libraries\n",
    "*Installing and importing necessary packages*"
   ]
  },
  {
   "cell_type": "code",
   "execution_count": 13,
   "metadata": {},
   "outputs": [
    {
     "name": "stdout",
     "output_type": "stream",
     "text": [
      "Requirement already satisfied: torch==0.4.0 from http://download.pytorch.org/whl/cu80/torch-0.4.0-cp36-cp36m-linux_x86_64.whl in /home/ceslea/anaconda3/lib/python3.6/site-packages (0.4.0)\r\n"
     ]
    },
    {
     "name": "stdout",
     "output_type": "stream",
     "text": [
      "Requirement already satisfied: matplotlib in /home/ceslea/anaconda3/lib/python3.6/site-packages (2.1.0)\r\nRequirement already satisfied: numpy>=1.7.1 in /home/ceslea/anaconda3/lib/python3.6/site-packages (from matplotlib) (1.13.3)\r\nRequirement already satisfied: six>=1.10 in /home/ceslea/anaconda3/lib/python3.6/site-packages (from matplotlib) (1.11.0)\r\n"
     ]
    },
    {
     "name": "stdout",
     "output_type": "stream",
     "text": [
      "Requirement already satisfied: python-dateutil>=2.0 in /home/ceslea/anaconda3/lib/python3.6/site-packages (from matplotlib) (2.6.1)\r\nRequirement already satisfied: pytz in /home/ceslea/anaconda3/lib/python3.6/site-packages (from matplotlib) (2017.2)\r\nRequirement already satisfied: cycler>=0.10 in /home/ceslea/anaconda3/lib/python3.6/site-packages (from matplotlib) (0.10.0)\r\nRequirement already satisfied: pyparsing!=2.0.4,!=2.1.2,!=2.1.6,>=2.0.1 in /home/ceslea/anaconda3/lib/python3.6/site-packages (from matplotlib) (2.2.0)\r\n"
     ]
    }
   ],
   "source": [
    "import sys\n",
    "import os\n",
    "!{sys.executable} -m pip install http://download.pytorch.org/whl/cu80/torch-0.4.0-cp36-cp36m-linux_x86_64.whl\n",
    "!{sys.executable} -m pip install matplotlib\n",
    "\n",
    "import torch\n",
    "import torch.nn as nn\n",
    "import torchvision.datasets as datasets\n",
    "import torchvision.transforms as transforms\n",
    "from IPython.display import Markdown as md\n",
    "from IPython.display import display, clear_output\n",
    "import utils\n",
    "import numpy as np\n",
    "import time\n",
    "\n",
    "%matplotlib inline\n",
    "import matplotlib\n",
    "import matplotlib.pyplot as plt"
   ]
  },
  {
   "cell_type": "markdown",
   "metadata": {},
   "source": [
    "## 2. Variables\n",
    "*Indicate the root directory where the data must be downloaded, the directory where the results should be saved and the type of RNN (conventional, LSTM, GRU) and its respective hyper-parameters*"
   ]
  },
  {
   "cell_type": "code",
   "execution_count": 14,
   "metadata": {},
   "outputs": [],
   "source": [
    "params = {'root': './data/',\n",
    "          'results_dir': './results/',\n",
    "          'model_type': 'RNN',\n",
    "          'batch_size': 512,\n",
    "          'epochs': 2,\n",
    "          'save_step': 50,\n",
    "          'lr': 0.001,\n",
    "          'weight_decay': 1e-5,\n",
    "          'num_classes': 10,\n",
    "          'num_layers': 2,\n",
    "          'hidden_size': 128,\n",
    "          'input_size': 28,\n",
    "          'sequence_length': 28}\n",
    "\n",
    "device = torch.device('cpu') if torch.cuda.is_available() else torch.device('gpu')\n",
    "utils.ensure_dir(params['results_dir'])"
   ]
  },
  {
   "cell_type": "markdown",
   "metadata": {},
   "source": [
    "## 3. Dataset"
   ]
  },
  {
   "cell_type": "code",
   "execution_count": 15,
   "metadata": {},
   "outputs": [
    {
     "name": "stdout",
     "output_type": "stream",
     "text": [
      "MNIST Train 60000, Test 10000\n"
     ]
    }
   ],
   "source": [
    "mnist_train = datasets.MNIST(root=params['root'], train=True, download=True, transform=transforms.ToTensor())\n",
    "mnist_test = datasets.MNIST(root=params['root'], train=False, download=True, transform=transforms.ToTensor())\n",
    "print(\"MNIST Train {}, Test {}\".format(len(mnist_train), len(mnist_test)))\n",
    "\n",
    "mnist_train_dataloader = torch.utils.data.DataLoader(dataset=mnist_train, batch_size=params['batch_size'], shuffle=True)\n",
    "mnist_test_dataloader = torch.utils.data.DataLoader(dataset=mnist_test, batch_size=params['batch_size'], shuffle=True)"
   ]
  },
  {
   "cell_type": "markdown",
   "metadata": {},
   "source": [
    "## 4. The Model: RNN\n",
    "$h_t = \\sigma(W x_t + U h_{t-1})$\n",
    "\n",
    "Some important information is: \n",
    "* Input size: number of expected features in input $x$\n",
    "* Hidden size: number of features in hidden state $h$\n",
    "* After forward propagation, output has shape (batch_size, seq_length, hidden_size)"
   ]
  },
  {
   "cell_type": "code",
   "execution_count": 16,
   "metadata": {},
   "outputs": [],
   "source": [
    "class RNN(nn.Module):\n",
    "    def __init__(self):\n",
    "        super(RNN, self).__init__()\n",
    "        self.input_size = params['input_size']\n",
    "        self.hidden_size = params['hidden_size']\n",
    "        self.num_layers = params['num_layers']\n",
    "        self.model_type = params['model_type']\n",
    "        \n",
    "        if self.model_type == 'RNN':\n",
    "            self.rnn = nn.RNN(self.input_size, self.hidden_size, num_layers=self.num_layers, bias=True, nonlinearity='tanh')\n",
    "        elif self.model_type == 'GRU':\n",
    "            self.rnn = nn.GRU(self.input_size, self.hidden_size, num_layers=self.num_layers, bias=True)\n",
    "        else:  # 'LSTM'\n",
    "            self.rnn = nn.LSTM(self.input_size, self.hidden_size, num_layers=self.num_layers)\n",
    "        self.fc = nn.Linear(self.hidden_size, params['num_classes'])\n",
    "        \n",
    "    def forward(self, x):           \n",
    "        # Set initial hidden state $h0$ and cell state $c0$\n",
    "        h0 = torch.zeros(self.num_layers, self.input_size, self.hidden_size).to(device)\n",
    "        c0 = torch.zeros(self.num_layers, self.input_size, self.hidden_size).to(device)\n",
    "\n",
    "        # Forward propagate RNN\n",
    "        if self.model_type == 'LSTM':\n",
    "            out, hidden = self.rnn(x, (h0, c0)) \n",
    "        else:\n",
    "            out, hidden = self.rnn(x, h0)\n",
    "        \n",
    "        # Decode last hidden state\n",
    "        out = self.fc(out[:, -1, :])\n",
    "        # print(out.shape)\n",
    "        return out"
   ]
  },
  {
   "cell_type": "markdown",
   "metadata": {},
   "source": [
    "## 5. Train"
   ]
  },
  {
   "cell_type": "code",
   "execution_count": 17,
   "metadata": {},
   "outputs": [
    {
     "name": "stdout",
     "output_type": "stream",
     "text": [
      "res_dir: ./results/LSTM_2layers_adam_lr0.001_weight1e-05_trainSize_60000_testSize_10000/\n"
     ]
    },
    {
     "name": "stdout",
     "output_type": "stream",
     "text": [
      "\rCompleted 0.4237%: Epoch/step [1/2 - 1/118], loss 2.3049\n"
     ]
    },
    {
     "name": "stdout",
     "output_type": "stream",
     "text": [
      "\rCompleted 21.6102%: Epoch/step [1/2 - 51/118], loss 2.2975\n"
     ]
    },
    {
     "name": "stdout",
     "output_type": "stream",
     "text": [
      "\rCompleted 42.7966%: Epoch/step [1/2 - 101/118], loss 2.3012\n"
     ]
    },
    {
     "name": "stdout",
     "output_type": "stream",
     "text": [
      "\rCompleted 50.4237%: Epoch/step [2/2 - 1/118], loss 2.3041\n"
     ]
    },
    {
     "name": "stdout",
     "output_type": "stream",
     "text": [
      "\rCompleted 71.6102%: Epoch/step [2/2 - 51/118], loss 2.2722\n"
     ]
    },
    {
     "name": "stdout",
     "output_type": "stream",
     "text": [
      "\rCompleted 92.7966%: Epoch/step [2/2 - 101/118], loss 2.2869\n"
     ]
    },
    {
     "data": {
      "image/png": "[encoded data removed]",
      "text/plain": [
       "<matplotlib.figure.Figure at 0x7fecdc06ea58>"
      ]
     },
     "metadata": {},
     "output_type": "display_data"
    }
   ],
   "source": [
    "# Instantiate model\n",
    "model = RNN()\n",
    "\n",
    "# Loss criterion and optimizer\n",
    "criterion = nn.CrossEntropyLoss()  # L1Loss, SmoothL1Loss, NLLLoss(), CrossEntropyLoss()\n",
    "optimizer = torch.optim.Adam(model.parameters(), lr=params['lr'], weight_decay=params['weight_decay'])\n",
    "\n",
    "# New results dir based on model's parameters\n",
    "res_dir = params['results_dir'] + '{}_{}layers_adam_lr{}_weight{}_trainSize_{}_testSize_{}/'.\\\n",
    "    format(params['model_type'], params['num_layers'], params['lr'], params['weight_decay'], len(mnist_train), len(mnist_test))\n",
    "utils.ensure_dir(res_dir)\n",
    "\n",
    "print(\"res_dir: {}\".format(res_dir))\n",
    "log_file = open(res_dir + 'log.txt', 'w')\n",
    "loss_arr = []\n",
    "first_time = True\n",
    "total_num_steps = len(mnist_train_dataloader)\n",
    "for e in range(1, params['epochs']+1):\n",
    "    for i, (img, label) in enumerate(mnist_train_dataloader):\n",
    "        img = torch.squeeze(img).to(device)\n",
    "        label = label.to(device)\n",
    "        \n",
    "        # Forward\n",
    "        out = model(img)\n",
    "        loss = criterion(out, label)\n",
    "        \n",
    "        # Backward\n",
    "        optimizer.zero_grad()\n",
    "        loss.backward()\n",
    "        optimizer.step()\n",
    "        \n",
    "        loss_arr.append(loss.item())\n",
    "        \n",
    "        if i % params['save_step'] == 0:\n",
    "            # Print update\n",
    "            perc = 100 * ((e-1)*total_num_steps + (i+1))/(params['epochs'] * total_num_steps)\n",
    "            str_res = \"Completed {:.4f}%: Epoch/step [{}/{} - {}/{}], loss {:.4f}\\n\".format(perc, e, params['epochs'], i+1, total_num_steps, loss.item())\n",
    "            print(\"\\r\" + str_res, end=\"\")\n",
    "            # Save log\n",
    "            log_file.write(str_res)\n",
    "            # Save training loss\n",
    "            plt.plot(loss_arr)\n",
    "            plt.savefig(res_dir + 'loss.png')\n",
    "            # Save model checkpoint\n",
    "            torch.save(model.state_dict(), res_dir + 'model.ckpt')\n",
    "plt.show()"
   ]
  },
  {
   "cell_type": "markdown",
   "metadata": {},
   "source": [
    "## 6. Test"
   ]
  },
  {
   "cell_type": "code",
   "execution_count": 19,
   "metadata": {},
   "outputs": [
    {
     "name": "stdout",
     "output_type": "stream",
     "text": [
      "Test Accuracy: 12.1300 %\n"
     ]
    }
   ],
   "source": [
    "# Testing doesn't require the use of gradients since weights aren't being updated\n",
    "with torch.no_grad():\n",
    "    correct = 0\n",
    "    total = 0\n",
    "    \n",
    "    for img, label in mnist_test_dataloader:\n",
    "        img = torch.squeeze(img).to(device)\n",
    "        label = label.to(device)\n",
    "        \n",
    "        # Forward\n",
    "        out = model(img)\n",
    "        \n",
    "        # Test\n",
    "        _, predicted = torch.max(out.data, 1)\n",
    "        total += label.size(0)\n",
    "        correct += (predicted == label).sum().item()\n",
    "\n",
    "    print('Test Accuracy: {:.4f} %'.format(100 * correct / total)) "
   ]
  },
  {
   "cell_type": "code",
   "execution_count": null,
   "metadata": {},
   "outputs": [],
   "source": []
  }
 ],
 "metadata": {
  "kernelspec": {
   "display_name": "Python 2",
   "language": "python",
   "name": "python2"
  },
  "language_info": {
   "codemirror_mode": {
    "name": "ipython",
    "version": 2
   },
   "file_extension": ".py",
   "mimetype": "text/x-python",
   "name": "python",
   "nbconvert_exporter": "python",
   "pygments_lexer": "ipython2",
   "version": "2.7.6"
  }
 },
 "nbformat": 4,
 "nbformat_minor": 0
}
